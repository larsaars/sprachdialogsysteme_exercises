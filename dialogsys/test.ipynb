{
 "cells": [
  {
   "cell_type": "code",
   "execution_count": 1,
   "id": "c30993f5-e6f2-4ba4-855e-3f3cd8e55af0",
   "metadata": {},
   "outputs": [],
   "source": [
    "import nltk\n",
    "from gtts import gTTS\n",
    "import speech_recognition as sr\n",
    "import spacy"
   ]
  },
  {
   "cell_type": "code",
   "execution_count": 4,
   "id": "7ee78c82-0f2b-4b45-a7f9-ae86dde7570c",
   "metadata": {},
   "outputs": [],
   "source": [
    "nlp = spacy.load('en_core_web_sm')"
   ]
  },
  {
   "cell_type": "code",
   "execution_count": 46,
   "id": "61c78469-d2e0-4d3f-88eb-5de48fcd35c1",
   "metadata": {},
   "outputs": [],
   "source": [
    "doc = nlp(\"\"\"The dog (Canis familiaris or Canis lupus familiaris) is a domesticated descendant of the wolf. Also called the domestic dog, it is derived from extinct Pleistocene wolves, and the modern wolf is the dog's nearest living relative. The dog was the first species to be domesticated by humans. Hunter-gatherers did this, over 15,000 years ago in Germany, which was before the development of agriculture. Due to their long association with humans, dogs have expanded to a large number of domestic individuals and gained the ability to thrive on a starch-rich diet that would be inadequate for other canids.\n",
    "\n",
    "The dog has been selectively bred over millennia for various behaviors, sensory capabilities, and physical attributes. Dog breeds vary widely in shape, size, and color. They perform many roles for humans, such as hunting, herding, pulling loads, protection, assisting police and the military, companionship, therapy, and aiding disabled people. Over the millennia, dogs became uniquely adapted to human behavior, and the human–canine bond has been a topic of frequent study. This influence on human society has given them the sobriquet of \"man's best friend\".\n",
    "\"\"\")"
   ]
  },
  {
   "cell_type": "code",
   "execution_count": 64,
   "id": "4a69fd3f-8338-49f6-865a-4055b650db6a",
   "metadata": {},
   "outputs": [],
   "source": [
    "doc = nlp('i\\'ve got a dog with the name of lupus and want 3 sacks for him!')"
   ]
  },
  {
   "cell_type": "code",
   "execution_count": 65,
   "id": "1b169211-1b7b-4ed1-bfe9-a168d4be60f0",
   "metadata": {},
   "outputs": [],
   "source": [
    "lemmas = [token.lemma_.lower() for token in doc]"
   ]
  },
  {
   "cell_type": "code",
   "execution_count": 66,
   "id": "97056265-1c9f-4590-885d-59e6fcc5d3e6",
   "metadata": {},
   "outputs": [
    {
     "data": {
      "text/plain": [
       "(3,)"
      ]
     },
     "execution_count": 66,
     "metadata": {},
     "output_type": "execute_result"
    }
   ],
   "source": [
    "doc.ents"
   ]
  },
  {
   "cell_type": "code",
   "execution_count": 62,
   "id": "ca9dbd93-db16-4d61-9adb-0a6288e8696c",
   "metadata": {},
   "outputs": [
    {
     "data": {
      "text/plain": [
       "True"
      ]
     },
     "execution_count": 62,
     "metadata": {},
     "output_type": "execute_result"
    }
   ],
   "source": [
    "'dog' in lemmas"
   ]
  },
  {
   "cell_type": "code",
   "execution_count": 67,
   "id": "33945a90-3308-4feb-8a67-0221cbde4ff2",
   "metadata": {},
   "outputs": [],
   "source": []
  },
  {
   "cell_type": "code",
   "execution_count": null,
   "id": "6d9b0010-0005-4868-a0d9-3c91cccb18d4",
   "metadata": {},
   "outputs": [],
   "source": []
  }
 ],
 "metadata": {
  "kernelspec": {
   "display_name": "Python 3 (ipykernel)",
   "language": "python",
   "name": "python3"
  },
  "language_info": {
   "codemirror_mode": {
    "name": "ipython",
    "version": 3
   },
   "file_extension": ".py",
   "mimetype": "text/x-python",
   "name": "python",
   "nbconvert_exporter": "python",
   "pygments_lexer": "ipython3",
   "version": "3.10.9"
  }
 },
 "nbformat": 4,
 "nbformat_minor": 5
}
